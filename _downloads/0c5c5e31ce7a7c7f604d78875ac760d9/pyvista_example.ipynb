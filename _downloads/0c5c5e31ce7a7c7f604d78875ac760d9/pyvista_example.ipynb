{
  "cells": [
    {
      "cell_type": "markdown",
      "metadata": {},
      "source": [
        "\n\n# Adding a new gallery example\n\nThis example shows how to add a new example to the PyAnsys [Sphinx-Gallery](https://sphinx-gallery.github.io/). You can use this example as a template\nfor adding your examples.\n\nEach example should have a reference tag/key in the form:\n\n``.. _<example-name>_example:``.\n\nThe ``.. _`` is necessary. Everything that follows is your reference tag, which\ncan potentially be used within a docstring. All references should be in snake case.\n\nThe first section, which is text, provides a brief overview of what the example is.\nWhen using this example as a template, you would change the title to an appropriate\none for your example.\n\nAdd new examples as Python scripts like this:\n\n``examples/<index>-<directory-name>/<some-example>.py``\n\n<div class=\"alert alert-info\"><h4>Note</h4><p>Avoid creating directories unless absolutely necessary. If you *must*\n   create a directory, make sure to add a ``README.txt`` file containing a\n   reference, a title, and a one-sentence description of the directory.\n   Otherwise, Sphinx ignores the new directory.</p></div>\n\nExample file names should use snake case and be hyphen-separated:\n\n``some-example.py``\n\nAfter this text section is the first code block. This is where you\ntypically set up your imports.\n"
      ]
    },
    {
      "cell_type": "code",
      "execution_count": null,
      "metadata": {
        "collapsed": false
      },
      "outputs": [],
      "source": [
        "import pyvista as pv"
      ]
    },
    {
      "cell_type": "markdown",
      "metadata": {},
      "source": [
        "## Section title\n\nCode blocks can be broken up with text sections, which are interpreted as\nReStructuredText.\n\nThe text sections are also translated into a markdown cell in the generated Jupyter\nnotebook or in the HTML documentation.\n\nText sections can contain any information that you may have regarding the example,\nsuch as step-by-step comments and notes regarding motivations.\n\nAs in Jupyter notebooks, if a statement is unassigned at the end of a code\nblock, output is generated and printed to the screen according to its\n``__repr__`` method. Otherwise, you can use the ``print()`` function to output text.\n\n"
      ]
    },
    {
      "cell_type": "code",
      "execution_count": null,
      "metadata": {
        "collapsed": false
      },
      "outputs": [],
      "source": [
        "# Create a dataset and exercise its ``__repr__`` method\n\ndataset = pv.Sphere()\ndataset"
      ]
    },
    {
      "cell_type": "markdown",
      "metadata": {},
      "source": [
        "## Plots and images\nIf you use anything that outputs an image (for example, the\n:func:`pyvista.Plotter.show` function), the resulting image is rendered in the\nHTML documentation.\n\n<div class=\"alert alert-info\"><h4>Note</h4><p>Unless ``sphinx_gallery_thumbnail_number = <int>`` is included at the top\n   of the example script, the first figure (this one) is used for the\n   gallery thumbnail image.\n\n   Also note that this image number uses one-based indexing.</p></div>\n\n"
      ]
    },
    {
      "cell_type": "code",
      "execution_count": null,
      "metadata": {
        "collapsed": false
      },
      "outputs": [],
      "source": [
        "dataset.plot(text=\"Example Figure\")"
      ]
    },
    {
      "cell_type": "markdown",
      "metadata": {},
      "source": [
        "## Caveat - plotter must be within one cell\nIt's not possible to have a single :class:`pyvista.Plotter` object across\nmultiple cells because these are closed out automatically at the end of a\ncell.\n\nThis code exercise the :class:`pyvista.Actor` ``repr`` to demonstrate\nwhy you might want to instantiate a plotter without showing it in the same\ncell:\n\n"
      ]
    },
    {
      "cell_type": "code",
      "execution_count": null,
      "metadata": {
        "collapsed": false
      },
      "outputs": [],
      "source": [
        "pl = pv.Plotter()\nactor = pl.add_mesh(dataset)\nactor"
      ]
    },
    {
      "cell_type": "markdown",
      "metadata": {},
      "source": [
        "## This cell cannot run the plotter\nBecause the plotter is already closed by Sphinx-Gallery, the following code\nwould raise an error:\n\n>>> pl.show()\n\n"
      ]
    },
    {
      "cell_type": "code",
      "execution_count": null,
      "metadata": {
        "collapsed": false
      },
      "outputs": [],
      "source": [
        "# You can, however, close out the plotter or access other attributes.\n\npl.close()"
      ]
    },
    {
      "cell_type": "markdown",
      "metadata": {},
      "source": [
        "## Create a pull request\nOnce your example is complete and you've verified that it builds locally, you can\ncreate a pull request.\n\nBranches containing examples should be prefixed with ``docs/`` as per [Branch-naming conventions](https://dev.docs.pyansys.com/how-to/contributing.html#branch-naming-conventions).\n\n<div class=\"alert alert-info\"><h4>Note</h4><p>You only need to create the Python source example (PY file). Sphinx-Gallery\n   automatically generates the Jupyter notebook and the RST file for generating\n   the HTML documentation page.</p></div>\n\n"
      ]
    }
  ],
  "metadata": {
    "kernelspec": {
      "display_name": "Python 3",
      "language": "python",
      "name": "python3"
    },
    "language_info": {
      "codemirror_mode": {
        "name": "ipython",
        "version": 3
      },
      "file_extension": ".py",
      "mimetype": "text/x-python",
      "name": "python",
      "nbconvert_exporter": "python",
      "pygments_lexer": "ipython3",
      "version": "3.13.7"
    }
  },
  "nbformat": 4,
  "nbformat_minor": 0
}